{
 "cells": [
  {
   "cell_type": "markdown",
   "metadata": {},
   "source": [
    "## Questões teóricas"
   ]
  },
  {
   "cell_type": "markdown",
   "metadata": {},
   "source": [
    "Quais são os componentes de um problema de satisfação de restrições (Contraint Satisfaction Problem - CSP)? Apresente definições de cada componente."
   ]
  },
  {
   "cell_type": "markdown",
   "metadata": {},
   "source": [
    "Pode se dizer que os CSP dsão compostos por 3 componentes:\n",
    "As varáveis\n",
    "Dominios\n",
    "Condições\n",
    "\n",
    "X - Variáveis: Definem as variáveis do problema, por exemplo, em um tabuleiro as variáveis são as locações ixj\n",
    "D - Dominios: Define o domínio do problema, por exemplo, em um palavra-chave são as combinações de palavras\n",
    "C - Condições: são condições definidas para que funcione o sistema  "
   ]
  },
  {
   "cell_type": "markdown",
   "metadata": {},
   "source": [
    "## Generate-and-test"
   ]
  },
  {
   "cell_type": "markdown",
   "metadata": {},
   "source": [
    "Generate and Test Search é uma técnica de busca heurística baseada em profundidade com Backtracking que garante encontrar uma solução se feita sistematicamente e se houver uma solução. \n",
    "Nesta técnica, todas as soluções são geradas e testadas para a melhor solução. \n",
    "Ele garante que a melhor solução seja verificada em relação a todas as possíveis soluções geradas.\n",
    "\n",
    "Também é conhecido como Algoritmo de Pesquisa do Museu Britânico, pois é como procurar uma exposição aleatoriamente ou encontrar um objeto no Museu Britânico vagando aleatoriamente.\n",
    "\n",
    "A avaliação é realizada pela função heurística, pois todas as soluções são geradas sistematicamente no algoritmo de geração e teste, mas se houver alguns caminhos que provavelmente não nos levarão ao resultado, eles não serão considerados. \n",
    "A heurística faz isso classificando todas as alternativas e geralmente é eficaz ao fazê-lo. \n",
    "A geração e o teste sistemáticos podem se mostrar ineficazes ao resolver problemas complexos. Mas existe uma técnica para melhorar também em casos complexos, combinando gerar e testar a busca com outras técnicas para reduzir o espaço de busca. \n",
    "Por exemplo, no Programa de Inteligência Artificial DENDRAL, fazemos uso de duas técnicas, a primeira é Técnicas de Satisfação de Restrições seguidas por Gerar e Procedimento de Teste para trabalhar em espaço de pesquisa reduzido, ou seja, produzir um resultado eficaz trabalhando em um número menor de listas geradas no próprio Primeiro passo.\n",
    "____\n",
    "O algoritmo de geração e teste para encontrar um modelo é o seguinte: verifique cada atribuição total por vez; se for encontrada uma atribuição que satisfaça todas as restrições, devolva essa atribuição. Um algoritmo de geração e teste para encontrar todos os modelos é o mesmo, exceto que, em vez de retornar o primeiro modelo encontrado, ele salva todos os modelos encontrados.\n",
    "\n",
    "If each of the n variable domains has size d, then D has d^n elements. If there are e constraints, the total number of constraints tested is O(ed^n). As n becomes large, this very quickly becomes intractable, \n",
    "and so we must find alternative solution methods."
   ]
  },
  {
   "cell_type": "markdown",
   "metadata": {},
   "source": [
    "## Como podemos utilizar os algoritmos de busca vistos na semana anterior para resolver CSPs?"
   ]
  },
  {
   "cell_type": "markdown",
   "metadata": {},
   "source": [
    "Os algoritmos de geração e teste atribuem valores a todas as variáveis ​​antes de verificar as restrições. Como as restrições individuais envolvem apenas um subconjunto das variáveis, algumas restrições podem ser testadas antes que todas as variáveis ​​tenham valores atribuídos. Se uma atribuição parcial for inconsistente com uma restrição, qualquer atribuição total que estenda a atribuição parcial também será inconsistente.\n",
    "Uma alternativa para gerar e testar algoritmos é construir um espaço de busca para as estratégias de busca do capítulo anterior. O gráfico a ser pesquisado é definido da seguinte forma:\n",
    "\n",
    "• Os nós são atribuições de valores para algum subconjunto das variáveis.\n",
    "• Os vizinhos de um nó n são obtidos selecionando uma variável Y que não está atribuída no nó n e tendo um vizinho para cada atribuição de um valor a Y que não viole nenhuma restrição.\n",
    "\n",
    "Suponha que o nó n seja a atribuição {X1=v1,…,Xk=vk}. Para encontrar os vizinhos de n, selecione uma variável Y que não esteja no conjunto {X1,…,Xk}. Para cada valor yi∈dom(Y), onde X1=v1,…,Xk=vk,Y=yi é consistente com cada uma das restrições, o nó {X1=v1,…,Xk=vk,Y=yi}é um vizinho de n.\n",
    "\n",
    "• O nó inicial é a atribuição vazia que não atribui um valor a nenhuma variável.\n",
    "• Um nó objetivo é um nó que atribui um valor a cada variável. Observe que isso só existe se a atribuição for consistente com todas as restrições.\n",
    "\n",
    "Nesse caso, não é o caminho do nó inicial que interessa, mas os nós objetivo.\n",
    "\n",
    "Nesta figura, um nó corresponde a todas as atribuições da raiz a esse nó. Os nós potenciais que são podados porque violam restrições são rotulados com ✘.\n",
    "\n",
    "O ✘ mais à esquerda corresponde à atribuição A=1, B = 1. Isso viola a restrição A < B e, portanto, é podado.\n",
    "\n",
    "Este CSP tem quatro soluções. O mais à esquerda é A = 1, B = 2, C = 3. O tamanho da árvore de busca e, portanto, a eficiência do algoritmo, depende de qual variável é selecionada em cada momento. Uma ordenação estática, como sempre dividir em A, em seguida, em C, geralmente é menos eficiente do que a ordenação dinâmica usada aqui, mas pode ser mais difícil encontrar a melhor ordenação dinâmica do que encontrar a melhor ordenação estática. O conjunto de respostas é o mesmo independentemente da ordenação das variáveis.\n",
    "\n",
    "Haveria 43 = 64 atribuições totais testadas em um algoritmo de geração e teste. Para o método de busca, há 8 atribuições totais geradas e outras 16 atribuições parciais que foram testadas quanto à consistência. Pesquisar essa árvore com uma pesquisa em profundidade, normalmente chamada de retrocesso, pode ser muito mais eficiente do que gerar e testar. Gerar e testar equivale a não verificar restrições até chegar às folhas. A verificação de restrições mais altas na árvore pode remover grandes subárvores que não precisam ser pesquisadas.\n",
    "\n"
   ]
  },
  {
   "cell_type": "markdown",
   "metadata": {},
   "source": [
    "## Considere o seguinte CSP:"
   ]
  },
  {
   "cell_type": "markdown",
   "metadata": {},
   "source": [
    "a) O espaço de busca/ O problema pode ter 4*4*4(81) soluções\n",
    "\n",
    "b) <A,A < B >\n",
    "<B,A < B >\n",
    "<B,B < C >\n",
    "<C,B < C >\n",
    "\n",
    "c) Suponha que o algoritmo primeiro selecione o arco ⟨ A , A < B ⟩ . Para A = 4 , não há valor de B que satisfaça a restrição. Assim, 4 é removido do domínio de A . Nada é adicionado a to_do porque não há nenhum outro arco que não seja to_do. • Suponha que ⟨ B , A < B ⟩ seja selecionado em seguida. O valor 1 é removido do domínio de B . Novamente nenhum arco é adicionado a to_do. • Suponha que ⟨ B , B < C ⟩ seja selecionado em seguida. O valor 4 é removido do domínio de B . Como o domínio de B foi reduzido, o arco ⟨ A , A < B ⟩ deve ser adicionado de volta ao conjunto de tarefas porque o domínio de A poderia ser reduzido ainda mais agora que o domínio de B é menor. • Se o arco ⟨ A , A < B ⟩ for selecionado em seguida, o valor A = 3 é removido do domínio de A . • O arco restante no to_do é ⟨ C , B < C ⟩ . Os valores 1 e 2 são removidos do domínio de C . Nenhum arco é adicionado a to_do porque C não está envolvido em nenhuma outra restrição e to_do fica vazio.\n",
    "\n",
    "O algoritmo então termina com D A = { 1 , 2 } , DB = { 2 , 3 } , D C = { 3 , 4 } . Embora isso não tenha resolvido totalmente o problema, ele o simplificou bastante. Por exemplo, a pesquisa de retrocesso em profundidade agora resolveria o problema com mais eficiência.\n",
    "\n",
    "Independentemente da ordem em que os arcos são considerados, o algoritmo terminará com o mesmo resultado, ou seja, uma rede consistente em arco e o mesmo conjunto de domínios reduzidos. Três casos são possíveis, dependendo do estado da rede após o término:\n",
    "\n",
    "• No primeiro caso, um domínio fica vazio, indicando que não há solução para o CSP. Observe que, assim que qualquer domínio ficar vazio, todos os domínios dos nós conectados ficarão vazios antes que o algoritmo termine.\n",
    "• No segundo caso, cada domínio possui um valor singleton, indicando que existe uma solução única para o CSP, como no Exemplo 4.19.\n",
    "• No terceiro caso, todo domínio não está vazio e pelo menos um tem vários valores nele. Nesse caso, não sabemos se existe uma solução ou como são as soluções (a menos que apenas um único domínio tenha vários valores). Métodos para resolver o problema neste caso são explorados nas seções a seguir.\n",
    "\n",
    "d) Várias extensões para a consistência do arco também são possíveis. Os domínios não precisam ser finitos; eles podem ser especificados usando intenções, não apenas listas de seus valores. Também é possível remover as restrições se as restrições forem representadas extensionalmente: se um valor foi removido para uma variável X , esse valor pode ser removido de todas as restrições que envolvem X . Técnicas de consistência de ordem superior, como consistência de caminho, consideram k -tuplas de variáveis ​​por vez, não apenas pares de variáveis ​​que são conectadas por uma restrição.\n",
    "\n",
    "e) "
   ]
  },
  {
   "cell_type": "markdown",
   "metadata": {},
   "source": [
    "## Como CSPs podem ser resolvidos como problemas de otimização"
   ]
  },
  {
   "cell_type": "markdown",
   "metadata": {},
   "source": [
    "Pode se utilizar o backtracking para resolver o problema, pois é um algorito sistematico/ exaustivo testando todas as atribuições\n",
    "O estado é uma atribuição de valores, atribuição parcial ou total, somando o valor de variação ate chegar a uma atribuição total\n",
    "Vizinhos: estados com mudança em uma variável\n",
    "Necessidade de função de avaliação de estados!\n",
    "F   (estados) => R\n",
    "\n",
    "Em um CSP queremos atingir um ponto onde não se viole as restrições, então caso use o numero de violações viladas como representante, então será um prblema de minimização, sendo 0 violações"
   ]
  },
  {
   "cell_type": "markdown",
   "metadata": {},
   "source": [
    "## Defina algoritmo determinístico e algoritmo estocástico"
   ]
  },
  {
   "cell_type": "markdown",
   "metadata": {},
   "source": [
    "Algoritimo determinístico é tpermitir que o algoritmo mude de ideiais e o algoritimo estocástico são usados ​​em tecnologia de inteligência artificial para resolver problemas baseados em probabilidades."
   ]
  },
  {
   "cell_type": "markdown",
   "metadata": {},
   "source": [
    "O algoritmo de subida de colina é um algoritmo de busca local que se move continuamente na direção de elevação/valor crescente para encontrar o pico da montanha ou a melhor solução para o problema. Ele termina quando atinge um valor de pico onde nenhum vizinho tem um valor mais alto. O algoritmo de subida de colinas é uma técnica que é usada para otimizar os problemas matemáticos. Um dos exemplos amplamente discutidos do algoritmo de escalada de colinas é o Problema do Caixeiro Viajante, no qual precisamos minimizar a distância percorrida pelo vendedor. Também é chamado de busca local gananciosa, pois apenas olha para o seu bom estado vizinho imediato e não além disso. Um nó de algoritmo de subida de colina tem dois componentes que são estado e valor. Hill Climbing é usado principalmente quando uma boa heurística está disponível. Neste algoritmo, não precisamos manter e manipular a árvore de busca ou o gráfico, pois ele mantém apenas um único estado atual.\n",
    "A seguir estão algumas características principais do algoritmo Hill Climbing:\n",
    "\n",
    "Variante Gerar e Testar: Hill Climbing é a variante do método Gerar e Testar. O método Gerar e Testar produz feedback que ajuda a decidir qual direção seguir no espaço de busca.\n",
    "Abordagem gananciosa: a busca do algoritmo de escalada se move na direção que otimiza o custo.\n",
    "Sem retrocesso: Não retrocede o espaço de busca, pois não lembra os estados anteriores.\n",
    "\n",
    "Recozimento simulado (ou Simulated Annealing) é uma meta-heurística para otimização que consiste numa técnica de busca local probabilística, e se fundamenta numa analogia com a termodinâmica.\n",
    "Esta técnica começa sua busca a partir de uma solução inicial qualquer. O procedimento principal consiste em um loop ou laço que a cada iteração, gera aleatoriamente um único vizinho s’ da solução corrente s.\n",
    "\n",
    "A cada geração de um novo vizinho s’ de s, é testada a variação ∆ do valor da função objetivo, isto é, ∆ = f (s’) – f (s), onde temos as seguintes situações:\n",
    "\n",
    "∆ < 0: Há uma redução de energia, a qual implica que a nova solução é melhor que a anterior. O método aceita a solução e s’ passa a ser a nova solução corrente.\n",
    "∆ = 0: Caso de estabilidade, não havendo redução de energia. Na verdade, situação pouco provável de acontecer na prática. A aceitação da solução é, portanto, indiferente.\n",
    "∆ > 0: Houve um aumento do estado de energia. A aceitação desse tipo de solução é mais provável a altas temperaturas e bastante improvável a temperaturas reduzidas. Para reproduzir essas características, geralmente usa-se, para calcular a probabilidade de se aceitar a nova solução, uma função conhecida por fator de Boltzmann, que é dada por e^(-∆/T), onde T é um parâmetro do método, chamado de temperatura e que regula a probabilidade de soluções com pior custo. Por exemplo, esta poderá ser:\n",
    "Gera-se um número aleatório retirado de uma distribuição uniforme no intervalo [0, 1].\n",
    "Se este número for menor ou igual a “p”, aceita-se a solução.\n",
    "Se for maior que “p”, rejeita-se a solução.\n",
    "A temperatura T assume inicialmente um valor elevado, {\\displaystyle T0}T0. Após um número fixo de iterações (o qual representa o número de iterações para o sistema atingir o equilíbrio térmico em uma dada temperatura), a temperatura é gradativamente diminuída por uma razão de resfriamento α, tal que Tn ← α * Tn -1, sendo 0 < α < 1. Como esse procedimento se dá no início, há uma chance maior de se escapar de mínimos locais e, à medida que T se aproxima de zero, o algoritmo se comporta como o método de descida, uma vez que diminui a probabilidade de se aceitar movimentos que possa piorar (T → 0 => e-∆/T → 0).\n",
    "\n",
    "O procedimento é finalizado quando a temperatura chega a um valor próximo de zero e nenhuma solução que piore o valor da melhor solução seja mais aceita, ou seja, quando o sistema estiver estável. A solução obtida quando o sistema encontra-se nesta situação evidencia o encontro de um mínimo local.\n",
    "\n",
    "Algoritmos baseados em Simulated Annealing geralmente incluem reaquecimento seguido de um novo processo de resfriamento, utilizado quando a quantidade de movimentos consecutivamente rejeitados é alta. É também comum trabalhar nas temperaturas mais altas com taxa de resfriamento menor e aumentá-la quando a temperatura reduzir.\n",
    "\n",
    "Algoritmos Genéticos são inspirados no princípio Darwiniano da evolução das espécies e na genética [1]. São algoritmos probabilísticos que fornecem um mecanismo de busca paralela e adaptativa baseado no princípio de sobrevivência dos mais aptos e na reprodução.Os princípios da natureza nos quais os\n",
    "GAs se inspiram são simples. De acordo com a teoria de C. Darwin, o princípio de seleção privilegia os indivíduos mais aptos com maior longevidade e, portanto, com maior probabilidade de reprodução. Indivíduos com mais descendentes têm mais chance de perpetuarem seus códigos genéticos nas próximas gerações. Tais códigosgenéticos constituem a identidade de cada indivíduo e estão representados nos cromossomas.\n",
    "Estes princípios são imitados na construção de algoritmos computacionais que buscam uma melhor solução para um determinado problema, através da evolução de populações de soluções codificadas através de cromossomas artificiais.\n",
    "Em GAs um cromossoma é uma estrutura de dados que representa uma das possíveis soluções do espaço de busca do problema.\n",
    "Cromossomas são então submetidos a um processo evolucionário que envolve avaliação, seleção, recombinação sexual (crossover) e mutação. Após vários ciclos de evolução a população deverá conter indivíduos mais aptos"
   ]
  },
  {
   "cell_type": "markdown",
   "metadata": {},
   "source": [
    "## Algoritimo Hill Climber - n queens"
   ]
  },
  {
   "cell_type": "code",
   "execution_count": 2,
   "metadata": {},
   "outputs": [
    {
     "ename": "SyntaxError",
     "evalue": "invalid syntax (3081454786.py, line 4)",
     "output_type": "error",
     "traceback": [
      "\u001b[1;36m  Input \u001b[1;32mIn [2]\u001b[1;36m\u001b[0m\n\u001b[1;33m    import psyco psyco.full()\u001b[0m\n\u001b[1;37m                 ^\u001b[0m\n\u001b[1;31mSyntaxError\u001b[0m\u001b[1;31m:\u001b[0m invalid syntax\n"
     ]
    }
   ],
   "source": [
    "import random\n",
    "from array import array\n",
    "\n",
    "\n",
    "board = [[0,0,0,0,0,0,0,0],[0,0,0,0,0,0,0,0],[0,0,0,0,0,0,0,0],[0,0,0,0,0,0,0,0],[0,0,0,0,0,0,0,0],[0,0,0,0,0,0,0,0],[0,0,0,0,0,0,0,0],[0,0,0,0,0,0,0,0]]\n",
    "neighbour = [[0,0,0,0,0,0,0,0],[0,0,0,0,0,0,0,0],[0,0,0,0,0,0,0,0],[0,0,0,0,0,0,0,0],[0,0,0,0,0,0,0,0],[0,0,0,0,0,0,0,0],[0,0,0,0,0,0,0,0],[0,0,0,0,0,0,0,0]]\n",
    "queens = [0,0,0,0,0,0,0,0]\n",
    "\n",
    "\n",
    "def collision_count(column,row):\n",
    "    coll = 0\n",
    "   \n",
    "    for j in range(8):\n",
    "        if j == row:\n",
    "            continue\n",
    "        if board[column][j] == 1 :\n",
    "            coll += 1\n",
    "    \n",
    "    while(column < 7 and row < 7):\n",
    "        row += 1\n",
    "        column +=1\n",
    "        if board[column][row] == 1:\n",
    "            coll += 1\n",
    "  \n",
    "    while(column > 0 and row > 0):\n",
    "        row -= 1\n",
    "        column -=1\n",
    "        if board[column][row] == 1:\n",
    "            coll += 1\n",
    "    \n",
    "    while(column > 0 and row < 7):\n",
    "        row += 1\n",
    "        column -=1\n",
    "        if board[column][row] == 1:\n",
    "            coll += 1\n",
    " \n",
    "    while(column < 7 and row > 0):\n",
    "        row -= 1\n",
    "        column +=1\n",
    "        if board[column][row] == 1:\n",
    "            coll += 1\n",
    "                     \n",
    "    return coll     \n",
    "\n",
    "def totalcoll():\n",
    "    totcoll = 0\n",
    "    for i in range(8):\n",
    "       totcoll += collision_count(i,queens[i])\n",
    "    return totcoll\n",
    "            \n",
    "while True:\n",
    " \n",
    " for i in range(8):\n",
    "     queens[i] = random.randrange(0,8)\n",
    "     board[i][queens[i]] = 1\n",
    "\n",
    "\n",
    "\n",
    " totalcollision =  totalcoll()\n",
    "    \n",
    " while True:\n",
    "\n",
    "  for i in range(8):\n",
    "     \n",
    "     oldqueen = queens[i]\n",
    "\n",
    "     \n",
    "     for j in range(8):\n",
    "       \n",
    "         queens[i] = j\n",
    "       \n",
    "         neighbour[i][j] = totalcoll()\n",
    "     \n",
    "     queens[i] = oldqueen\n",
    "\n",
    " \n",
    "  min = neighbour[0][0]\n",
    "  minqueencol = 0\n",
    "  minqueenrow = 0\n",
    "  for i in range(8):\n",
    "      for j in range(8):\n",
    "          if(neighbour[i][j]<min):\n",
    "              min = neighbour[i][j]\n",
    "              minqueenrow = j\n",
    "              minqueencol = i\n",
    "\n",
    "  if min<totalcollision:\n",
    "     totalcollision = min\n",
    "     queens[minqueencol] = minqueenrow\n",
    "    \n",
    "\n",
    "  else:\n",
    "      break\n",
    "\n",
    " if totalcollision == 0:\n",
    "        break\n",
    "\n",
    "print(\"a\")\n",
    "\n",
    "for i in range(8):\n",
    "    for j in range(8):\n",
    "        print(board[i][j])"
   ]
  }
 ],
 "metadata": {
  "interpreter": {
   "hash": "5dcb956a9836ff1b933445fcf1feb8fe66535bc0a9a9152eaf00f8fb8a7284e4"
  },
  "kernelspec": {
   "display_name": "Python 3.10.3 64-bit",
   "language": "python",
   "name": "python3"
  },
  "language_info": {
   "codemirror_mode": {
    "name": "ipython",
    "version": 3
   },
   "file_extension": ".py",
   "mimetype": "text/x-python",
   "name": "python",
   "nbconvert_exporter": "python",
   "pygments_lexer": "ipython3",
   "version": "3.10.3"
  },
  "orig_nbformat": 4
 },
 "nbformat": 4,
 "nbformat_minor": 2
}
